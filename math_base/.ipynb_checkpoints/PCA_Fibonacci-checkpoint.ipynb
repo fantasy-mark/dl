{
 "cells": [
  {
   "cell_type": "code",
   "execution_count": 1,
   "metadata": {},
   "outputs": [],
   "source": [
    "#!/usr/bin/python\n",
    "# -*- coding: utf-8 -*-\n",
    "from matplotlib import pyplot as plt\n",
    "import numpy as np\n",
    "\n",
    "from IPython.display import Latex, Math, display"
   ]
  },
  {
   "cell_type": "markdown",
   "metadata": {},
   "source": [
    "**PCA(特征根求解斐波那契数列)**"
   ]
  },
  {
   "cell_type": "code",
   "execution_count": 2,
   "metadata": {},
   "outputs": [
    {
     "data": {
      "text/plain": [
       "'Fibonacci sequence such as:'"
      ]
     },
     "metadata": {},
     "output_type": "display_data"
    },
    {
     "data": {
      "text/latex": [
       "$F_{k+2} = F_{k+1} + F_{k}$"
      ],
      "text/plain": [
       "<IPython.core.display.Latex object>"
      ]
     },
     "metadata": {},
     "output_type": "display_data"
    },
    {
     "data": {
      "text/latex": [
       "$F_{k+1} = F_{k+1} + 0$"
      ],
      "text/plain": [
       "<IPython.core.display.Latex object>"
      ]
     },
     "metadata": {},
     "output_type": "display_data"
    },
    {
     "data": {
      "text/plain": [
       "\"let's write to matrix mode:\""
      ]
     },
     "metadata": {},
     "output_type": "display_data"
    },
    {
     "data": {
      "text/latex": [
       "$\\begin{bmatrix} F_{k+2} \\\\F_{k+1} \\end{bmatrix} = \\overbrace{\\begin{bmatrix} 1 \\quad 1 \\\\1 \\quad 0 \\\\\\end{bmatrix}}^{A} \\begin{bmatrix} F_{k+1} \\\\F_{k} \\end{bmatrix} $"
      ],
      "text/plain": [
       "<IPython.core.display.Latex object>"
      ]
     },
     "metadata": {},
     "output_type": "display_data"
    }
   ],
   "source": [
    "display(r\"Fibonacci sequence such as:\")\n",
    "display(Latex(r\"$F_{k+2} = F_{k+1} + F_{k}$\"))\n",
    "display(Latex(r\"$F_{k+1} = F_{k+1} + 0$\"))\n",
    "display(r\"let's write to matrix mode:\")\n",
    "display(Latex(r\"$\\begin{bmatrix} \\\n",
    "F_{k+2} \\\\\\\n",
    "F_{k+1} \\\n",
    "\\end{bmatrix} = \\overbrace{\\begin{bmatrix} \\\n",
    "1 \\quad 1 \\\\\\\n",
    "1 \\quad 0 \\\\\\\n",
    "\\end{bmatrix}}^{A} \\begin{bmatrix} \\\n",
    "F_{k+1} \\\\\\\n",
    "F_{k} \\\n",
    "\\end{bmatrix} \\\n",
    "$\"))"
   ]
  },
  {
   "cell_type": "code",
   "execution_count": null,
   "metadata": {},
   "outputs": [],
   "source": []
  }
 ],
 "metadata": {
  "kernelspec": {
   "display_name": "Python 2",
   "language": "python",
   "name": "python2"
  },
  "language_info": {
   "codemirror_mode": {
    "name": "ipython",
    "version": 2
   },
   "file_extension": ".py",
   "mimetype": "text/x-python",
   "name": "python",
   "nbconvert_exporter": "python",
   "pygments_lexer": "ipython2",
   "version": "2.7.12"
  }
 },
 "nbformat": 4,
 "nbformat_minor": 2
}

{
 "cells": [
  {
   "cell_type": "markdown",
   "metadata": {},
   "source": [
    "[课时42 课时40, 41作业讲解](http://study.163.com/course/courseLearn.htm?courseId=1050010#/learn/video?lessonId=1003452011&courseId=1050010)"
   ]
  },
  {
   "cell_type": "markdown",
   "metadata": {},
   "source": [
    "- 分别用梯度下降法和牛顿法求 Ax = B 的最优解\n",
    ">* 用2d等高线表示迭代过程\n",
    ">* 用3d曲面表示迭代过程\n",
    ">* 用代价方程的残留值表示迭代过程  \n",
    "$A=\\begin{bmatrix}\n",
    "4 \\quad 2 \\\\\\\n",
    "1 \\quad 3 \\\n",
    "\\end{bmatrix},\\quad B = \\begin{bmatrix}\n",
    "3 \\\\\\\n",
    "2 \\\n",
    "\\end{bmatrix}$"
   ]
  },
  {
   "cell_type": "code",
   "execution_count": null,
   "metadata": {},
   "outputs": [],
   "source": []
  }
 ],
 "metadata": {
  "kernelspec": {
   "display_name": "Python 2",
   "language": "python",
   "name": "python2"
  },
  "language_info": {
   "codemirror_mode": {
    "name": "ipython",
    "version": 2
   },
   "file_extension": ".py",
   "mimetype": "text/x-python",
   "name": "python",
   "nbconvert_exporter": "python",
   "pygments_lexer": "ipython2",
   "version": "2.7.12"
  }
 },
 "nbformat": 4,
 "nbformat_minor": 2
}

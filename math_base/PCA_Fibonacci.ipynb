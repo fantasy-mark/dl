{
 "cells": [
  {
   "cell_type": "code",
   "execution_count": 56,
   "metadata": {},
   "outputs": [],
   "source": [
    "#!/usr/bin/python\n",
    "# -*- coding: utf-8 -*-\n",
    "from matplotlib import pyplot as plt\n",
    "import numpy as np\n",
    "\n",
    "from IPython.display import Latex, Math, display\n",
    "\n",
    "import mark"
   ]
  },
  {
   "cell_type": "markdown",
   "metadata": {},
   "source": [
    "**PCA(特征根求解斐波那契数列)**\n",
    "\n",
    "[课时27 特征值特征向量这对好基友](http://study.163.com/course/courseLearn.htm?courseId=1050010#/learn/video?lessonId=1003316016&courseId=1050010)\n",
    "\n",
    "[课时29 如何用特征值分解求Fibonacci数列](http://study.163.com/course/courseLearn.htm?courseId=1050010&from=study#/learn/video?lessonId=1003323035&courseId=1050010)"
   ]
  },
  {
   "cell_type": "code",
   "execution_count": 57,
   "metadata": {},
   "outputs": [
    {
     "data": {
      "text/plain": [
       "'Fibonacci sequence such as:'"
      ]
     },
     "metadata": {},
     "output_type": "display_data"
    },
    {
     "data": {
      "text/latex": [
       "$F_{k+2} = F_{k+1} + F_{k}$"
      ],
      "text/plain": [
       "<IPython.core.display.Latex object>"
      ]
     },
     "metadata": {},
     "output_type": "display_data"
    },
    {
     "data": {
      "text/latex": [
       "$F_{k+1} = F_{k+1} + 0$"
      ],
      "text/plain": [
       "<IPython.core.display.Latex object>"
      ]
     },
     "metadata": {},
     "output_type": "display_data"
    },
    {
     "data": {
      "text/plain": [
       "\"let's write to matrix mode:\""
      ]
     },
     "metadata": {},
     "output_type": "display_data"
    },
    {
     "data": {
      "text/latex": [
       "$\\begin{bmatrix} F_{k+2} \\\\F_{k+1} \\end{bmatrix} = \\overbrace{\\begin{bmatrix} 1 \\quad 1 \\\\1 \\quad 0 \\\\\\end{bmatrix}}^{A} \\overbrace{\\begin{bmatrix} F_{k+1} \\\\F_{k} \\end{bmatrix}}^{U_{k}} , \\quad special. \\quad U_{0} = \\begin{bmatrix} 1 \\\\0 \\end{bmatrix} $"
      ],
      "text/plain": [
       "<IPython.core.display.Latex object>"
      ]
     },
     "metadata": {},
     "output_type": "display_data"
    }
   ],
   "source": [
    "display(r\"Fibonacci sequence such as:\")\n",
    "display(Latex(r\"$F_{k+2} = F_{k+1} + F_{k}$\"))\n",
    "display(Latex(r\"$F_{k+1} = F_{k+1} + 0$\"))\n",
    "display(r\"let's write to matrix mode:\")\n",
    "display(Latex(r\"$\\begin{bmatrix} \\\n",
    "F_{k+2} \\\\\\\n",
    "F_{k+1} \\\n",
    "\\end{bmatrix} = \\overbrace{\\begin{bmatrix} \\\n",
    "1 \\quad 1 \\\\\\\n",
    "1 \\quad 0 \\\\\\\n",
    "\\end{bmatrix}}^{A} \\overbrace{\\begin{bmatrix} \\\n",
    "F_{k+1} \\\\\\\n",
    "F_{k} \\\n",
    "\\end{bmatrix}}^{U_{k}} , \\quad special. \\quad U_{0} = \\begin{bmatrix} \\\n",
    "1 \\\\\\\n",
    "0 \\\n",
    "\\end{bmatrix} \\\n",
    "$\"))"
   ]
  },
  {
   "cell_type": "markdown",
   "metadata": {},
   "source": [
    "$由特征向量(A - \\lambda I)x = 0 线性相关, 可得\\lambda_{1}=\\frac{1+\\sqrt{5}}{2} \\quad \\lambda_{2}=\\frac{1-\\sqrt{5}}{2},\\quad代入Ax = \\lambda x 方程可得:$\n",
    "\n",
    "$\\begin{equation}\n",
    "x_{1} + x_{2} = \\lambda_{1} x_{1} \\\\\n",
    "x_{1} = \\lambda_{1} x_{2} \\qquad 求得\\quad x_{1} = \\lambda_{1} \\quad x_{2} = 1\n",
    "\\end{equation}$\n",
    "\n",
    "$\\begin{equation}\n",
    "x_{1} + x_{2} = \\lambda_{1} x_{1} \\\\\n",
    "x_{1} = \\lambda_{1} x_{2} \\qquad 求得\\quad x_{1} = \\lambda_{2} \\quad x_{2} = 1\n",
    "\\end{equation}$\n",
    "\n",
    "$\n",
    "可得\n",
    "\\overbrace{\\begin{bmatrix}\n",
    "\\lambda_{1} \\quad \\lambda_{2} \\\\\n",
    "1 \\quad 1\n",
    "\\end{bmatrix}}^{S} \\quad,\\quad\n",
    "\\overbrace{\\begin{bmatrix}\n",
    "\\lambda_{1} \\quad 0 \\\\\n",
    "0 \\quad \\lambda_{2}\n",
    "\\end{bmatrix}}^{\\land}\n",
    ", \\quad 又 \\quad AS = S\\land 推广得 \\quad A^{N} = S\\land^{N}S^{-1}, \\quad 故\n",
    "$\n",
    "\n",
    "$\n",
    "U_{k} = A^{k}U_{0} = S\\land^{k}S^{-1}U_{0}\n",
    "$"
   ]
  },
  {
   "cell_type": "markdown",
   "metadata": {},
   "source": [
    "$很明显当k很大时 \\lambda^{k} 取决于大的那个, 即\\quad \\lambda_{1} \\approx 1.618 \\quad 为主要成分$"
   ]
  },
  {
   "cell_type": "code",
   "execution_count": 58,
   "metadata": {},
   "outputs": [
    {
     "name": "stdout",
     "output_type": "stream",
     "text": [
      "[[ 1.61803399 -0.61803399]\n",
      " [ 1.          1.        ]] S\n",
      "\n",
      "[[ 1.61803399  1.        ]\n",
      " [-0.61803399  1.        ]] S_inv\n",
      "\n",
      "[[ 1.61803399  0.        ]\n",
      " [ 0.         -0.61803399]] land\n",
      "\n",
      "[[1]\n",
      " [0]] U0\n",
      "\n",
      "\n"
     ]
    }
   ],
   "source": [
    "lambda1 = (1+sqrt(5))/2\n",
    "lambda2 = (1-sqrt(5))/2\n",
    "\n",
    "S = np.array([[lambda1, lambda2], [1, 1]])\n",
    "S_inv = np.array([[lambda1, 1], [lambda2, 1]])\n",
    "land = np.array([[lambda1, 0], [0, lambda2]])\n",
    "U0 = np.array([[1], [0]])\n",
    "\n",
    "print S, 'S\\n\\n', S_inv, 'S_inv\\n\\n', land, 'land\\n\\n', U0, 'U0\\n\\n'"
   ]
  },
  {
   "cell_type": "code",
   "execution_count": 24,
   "metadata": {},
   "outputs": [],
   "source": [
    "def have_landN(N):\n",
    "    landN = land\n",
    "    for i in range(1, N):\n",
    "        landN = landN.dot(land)\n",
    "    return landN"
   ]
  },
  {
   "cell_type": "code",
   "execution_count": 55,
   "metadata": {
    "scrolled": false
   },
   "outputs": [
    {
     "name": "stdout",
     "output_type": "stream",
     "text": [
      "[[ 521.]\n",
      " [ 322.]] 612.474489265\n",
      "[[ 1.61801242]]\n"
     ]
    }
   ],
   "source": [
    "# have_landN填入k参数\n",
    "Uk = S.dot(have_landN(11)).dot(S_inv).dot(U0)\n",
    "print Uk, sqrt(Uk[[0]]*Uk[[0]] + Uk[[1]]*Uk[[1]])\n",
    "print Uk[[0]]/Uk[[1]]"
   ]
  },
  {
   "cell_type": "code",
   "execution_count": null,
   "metadata": {},
   "outputs": [],
   "source": []
  }
 ],
 "metadata": {
  "kernelspec": {
   "display_name": "Python 2",
   "language": "python",
   "name": "python2"
  },
  "language_info": {
   "codemirror_mode": {
    "name": "ipython",
    "version": 2
   },
   "file_extension": ".py",
   "mimetype": "text/x-python",
   "name": "python",
   "nbconvert_exporter": "python",
   "pygments_lexer": "ipython2",
   "version": "2.7.12"
  }
 },
 "nbformat": 4,
 "nbformat_minor": 2
}

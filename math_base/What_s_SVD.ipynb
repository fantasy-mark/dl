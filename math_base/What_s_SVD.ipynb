{
 "cells": [
  {
   "cell_type": "markdown",
   "metadata": {},
   "source": [
    "## What_s_SVD"
   ]
  },
  {
   "cell_type": "markdown",
   "metadata": {},
   "source": [
    "> 什么是(半)正定矩阵\n",
    "\n",
    "- 若所有特征值均不小于零，则称为半正定。\n",
    "- 若所有特征值均大于零，则称为正定。\n",
    "\n",
    "*   半正定矩阵(向量空间)解释\n",
    "\n",
    "    半正定矩阵定义为:$\\quad X^{T}MX \\geq 0, \\quad X是向量, \\quad M是变换矩阵$  \n",
    "    正定矩阵定义为:$\\quad X^{T}MX > 0, \\quad X是向量, \\quad M是变换矩阵$  \n",
    "    变换一个思路看这个问题, 矩阵变换中, MX代表对向量X进行变换, 我们假设变换后的向量为Y,  \n",
    "    记做Y=MX. 于是半正定矩阵可以写作$\\quad X^{T}Y\\geq 0$\n",
    "    这个可以看作两个两个向量的内积. 故写作:$\\quad \\cos(\\theta)=\\frac{X^{T}Y}{\\parallel X \\parallel * \\parallel Y \\parallel}$\n",
    "    $\\parallel X\\parallel, \\parallel Y\\parallel代表向量 X,Y的长度，\\theta是他们之间的夹角$  \n",
    "    $于是半正定矩阵意味着\\quad \\cos(\\theta)\\geq 0\\quad$即代表一个向量经过它的变化后的向量与其本身的夹角小于等于90度。"
   ]
  },
  {
   "cell_type": "markdown",
   "metadata": {},
   "source": [
    "> SVD分解\n",
    "\n",
    "*   $U、V为正交矩阵, 且det(U)=1、det(V)=1的\\quad \\Sigma 为对角矩阵$  \n",
    "\n",
    "    $(半)正定矩阵\\quad T = U\\Sigma U^{T}, \\quad一个矩阵变换转化为\\quad旋转到坐标轴\\to沿坐标轴缩放\\to旋转到原来方向$\n",
    "    $不定矩阵\\quad T = U\\Sigma V^{T}, \\quad\\quad一个矩阵变换转化为\\quad旋转到坐标轴\\to沿坐标轴缩放\\to旋转到目标方向$  \n",
    "\n",
    "> Tips:向量M乘于行列式为1的正交矩阵为什么只是旋转?"
   ]
  },
  {
   "cell_type": "code",
   "execution_count": 118,
   "metadata": {},
   "outputs": [
    {
     "name": "stdout",
     "output_type": "stream",
     "text": [
      "3.14159265359 0.785398163397 0.353553390593 0.353553390593\n"
     ]
    },
    {
     "data": {
      "image/png": "[encoded data removed]",
      "text/plain": [
       "<matplotlib.figure.Figure at 0x7f85a440cd90>"
      ]
     },
     "metadata": {},
     "output_type": "display_data"
    }
   ],
   "source": [
    "#!/usr/bin/python\n",
    "# -*- coding: utf-8 -*-\n",
    "from matplotlib import pyplot as plt\n",
    "import numpy as np\n",
    "from math import sqrt\n",
    "\n",
    "from IPython.display import Latex, Math, display\n",
    "\n",
    "theta = np.arange(0, 2*np.pi, 2*np.pi/100)\n",
    "x = np.cos(theta)/2\n",
    "y = np.sin(theta)/2\n",
    "\n",
    "# 单位圆上一点\n",
    "theta1 = 45.0/180*np.pi\n",
    "x1 = np.cos(theta1)/2\n",
    "y1 = np.sin(theta1)/2\n",
    "print np.pi, theta1, x1, y1\n",
    "\n",
    "plt.figure(1)\n",
    "plt.subplot(131)\n",
    "plt.text(-0.5, 0, r'O1', fontsize=16)\n",
    "plt.text(0.5, 0, r'O2', fontsize=16)\n",
    "plt.text(x1, 0, r'P', fontsize=16)\n",
    "plt.text(x1, y1, r'A(B)', fontsize=16)\n",
    "plt.plot(x, y, '-r', 0, 0, 'b')\n",
    "plt.plot([-0.5, x1, 0.5, -0.5], [0, y1, 0, 0], '--b')\n",
    "plt.plot([x1, x1], [y1, 0], '-y')\n",
    "plt.gca().set_aspect(1)\n",
    "\n",
    "plt.subplot(133)\n",
    "plt.text(0, 0, r'O', fontsize=16)\n",
    "plt.text(x1+0.5, y1, r'A', fontsize=16)\n",
    "plt.text(x1-0.5, y1, r'B', fontsize=16)\n",
    "plt.text(x1+0.5, 0, r\"A'\", fontsize=16)\n",
    "plt.text(x1-0.5, 0, r\"B'\", fontsize=16)\n",
    "plt.text(2*x1, 2*y1, r\"O'\", fontsize=16)\n",
    "#plt.plot(x, y, '-r', 0, 0, 'b')\n",
    "plt.plot([x1-0.5, 0, x1+0.5, 2*x1, x1-0.5], [y1, 0, y1, 2*y1, y1], '--b')\n",
    "plt.plot([0, 2*x1], [0, 2*y1], '--r')\n",
    "# 随意设置一个向量L\n",
    "lx = 0.8\n",
    "ly = 1.2\n",
    "plt.plot([0, lx], [0, ly], '-r')\n",
    "plt.text(lx*0.8, ly*0.8, r\"M'\", fontsize=16)\n",
    "plt.gca().set_aspect(1)\n",
    "\n",
    "plt.show()"
   ]
  },
  {
   "cell_type": "markdown",
   "metadata": {},
   "source": [
    "很显然左图可变换为右图, 且$\\parallel O_{1}A\\parallel^{2} + \\parallel O_{2}B\\parallel ^{2} =1, \\quad 等同于U=\\begin{bmatrix} \\\n",
    "OA\\cos(\\phi) \\quad -OB\\sin(\\phi) \\\\\\\n",
    "OA\\sin(\\phi) \\quad OB\\cos(\\phi) \\\n",
    "\\end{bmatrix}, \\phi为\\vec{OO'}与x轴夹角$  \n",
    "$右图可代表为行列式为1的正交矩阵, \\quad即行列式为1的正交矩阵U乘于向量M, 又三角和公式$  \n",
    "$若\\parallel M \\parallel = L, \\quad \\theta为\\vec{M}与\\vec{OO'}夹角, \\quad UM = \\begin{bmatrix}\n",
    "L*OA\\cos(\\theta)\\cos(\\phi) - L*OB\\cos(\\frac{\\pi}{2}-\\theta)\\sin(\\phi) \\\\\\\n",
    "L*OA\\sin(\\theta)\\cos(\\phi) + L*OB\\cos(\\frac{\\pi}{2}-\\theta)\\sin(\\phi) \\\n",
    "\\end{bmatrix} = \\begin{bmatrix} \\\n",
    "L\\cos(\\phi+\\theta) \\\\\\\n",
    "L\\sin(\\phi+\\theta) \\\n",
    "\\end{bmatrix}$\n",
    "$故\\quad 计算的UM的模\\parallel M \\parallel = \\sqrt{L^{2}\\cos^{2}(\\phi+\\theta)+L^{2}\\sin^{2}(\\phi+\\theta)} = L, 相当于M经过UM运算旋转了\\theta 角度, 长度不变， 证毕!$"
   ]
  },
  {
   "cell_type": "markdown",
   "metadata": {},
   "source": [
    "$由PCA知道AA^{T} = u\\land u^{T}=u\\Sigma\\Sigma^{T} u^{T} = \\overbrace{u\\Sigma v^{T}}^{A}\\overbrace{v\\Sigma^{T}u^{T}}^{A^{T}} \\quad (隐含PCA单位对称矩阵S(看作u)=\\begin{bmatrix} \\\n",
    "\\lambda_{1} \\quad \\lambda_{2} \\\\\\\n",
    "1 \\quad 1 \\\n",
    "\\end{bmatrix} \\\n",
    "特性\\quad uu^{T} = I \\to u^{T} = u^{-1}$  \n",
    "$\\qquad\\qquad\\qquad\\qquad\\qquad\\qquad\\qquad\\qquad\\qquad\\qquad推导出 \\quad S\\land S^{-1} \\to u\\land u^{T}) $  \n",
    "$A = u\\Sigma v^{T}即为SVD分解, \\Sigma为奇异值$"
   ]
  },
  {
   "cell_type": "code",
   "execution_count": 119,
   "metadata": {
    "scrolled": true
   },
   "outputs": [
    {
     "data": {
      "text/plain": [
       "0.999924"
      ]
     },
     "execution_count": 119,
     "metadata": {},
     "output_type": "execute_result"
    }
   ],
   "source": [
    "1.618*0.618"
   ]
  },
  {
   "cell_type": "code",
   "execution_count": null,
   "metadata": {},
   "outputs": [],
   "source": []
  }
 ],
 "metadata": {
  "kernelspec": {
   "display_name": "Python 2",
   "language": "python",
   "name": "python2"
  },
  "language_info": {
   "codemirror_mode": {
    "name": "ipython",
    "version": 2
   },
   "file_extension": ".py",
   "mimetype": "text/x-python",
   "name": "python",
   "nbconvert_exporter": "python",
   "pygments_lexer": "ipython2",
   "version": "2.7.12"
  }
 },
 "nbformat": 4,
 "nbformat_minor": 2
}
